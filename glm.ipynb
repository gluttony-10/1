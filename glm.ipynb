{
 "cells": [
  {
   "cell_type": "code",
   "execution_count": null,
   "metadata": {},
   "outputs": [],
   "source": [
    "#@title 1.下载基础文件\n",
    "#@markdown 下载成功后再进行下一项，git库有时候链接不上很正常\n",
    "!git config --global --unset http.proxy\n",
    "!git config --global --unset https.proxy\n",
    "!pip install --upgrade pip\n",
    "!git clone https://github.com/gluttony-10/ChatGLM-Lora.git\n",
   ]
  },
  {
   "cell_type": "code",
   "execution_count": null,
   "metadata": {},
   "outputs": [],
   "source": [
    "#@title 2.安装依赖文件文件\n",
    "%cd ChatGLM-Lora\n",
    "!pip install -r requirements.txt\n",
    "!git clone --progress -v https://huggingface.co/THUDM/chatglm-6b"
   ]
  },
    {
   "cell_type": "code",
   "execution_count": null,
   "metadata": {},
   "outputs": [],
   "source": [
    "#升级\n",
    "%cd /mnt/workspace/ChatGLM-Lora\n",
    "!git pull"
   ]
  },
  {
   "cell_type": "code",
   "execution_count": null,
   "metadata": {},
   "outputs": [],
   "source": [
    "#转换数据包\n",
    "!python cover_alpaca2jsonl.py \\\n",
    "    --data_path 9train.json \\\n",
    "    --save_path 9train.jsonl"
   ]
  },
  {
   "cell_type": "code",
   "execution_count": null,
   "metadata": {},
   "outputs": [],
   "source": [
    "#tokenization\n",
    "!python tokenize_dataset_rows.py \\\n",
    "    --jsonl_path 9train.jsonl \\\n",
    "    --save_path data/alpaca \\\n",
    "    --max_seq_length 200"
   ]
  },
  {
   "cell_type": "code",
   "execution_count": null,
   "metadata": {},
   "outputs": [],
   "source": [
    "#训练\n",
    "!wandb off\n",
    "!python finetune.py \\\n",
    "    --dataset_path data/alpaca \\\n",
    "    --lora_rank 32 \\\n",
    "    --per_device_train_batch_size 6 \\\n",
    "    --gradient_accumulation_steps 1 \\\n",
    "    --max_steps 1000 \\\n",
    "    --save_steps 1000 \\\n",
    "    --save_total_limit 2 \\\n",
    "    --learning_rate 1e-4 \\\n",
    "    --fp16 \\\n",
    "    --remove_unused_columns false \\\n",
    "    --logging_steps 50 \\\n",
    "    --output_dir output"
   ]
  },
    {
   "cell_type": "code",
   "execution_count": null,
   "metadata": {},
   "outputs": [],
   "source": [
    "#检验\n",
    "!python webui.py"
   ]
  }
 ],
 "metadata": {
  "accelerator": "GPU",
  "colab": {
   "provenance": []
  },
  "gpuClass": "standard",
  "kernelspec": {
   "display_name": "Python 3 (ipykernel)",
   "language": "python",
   "name": "python3"
  },
  "language_info": {
   "codemirror_mode": {
    "name": "ipython",
    "version": 3
   },
   "file_extension": ".py",
   "mimetype": "text/x-python",
   "name": "python",
   "nbconvert_exporter": "python",
   "pygments_lexer": "ipython3",
   "version": "3.10.6"
  },
  "vscode": {
   "interpreter": {
    "hash": "25273a2a68c96ebac13d7fb9e0db516f9be0772777a0507fe06d682a441a3ba7"
   }
  }
 },
 "nbformat": 4,
 "nbformat_minor": 4
}
