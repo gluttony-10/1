{
 "cells": [
  {
   "cell_type": "markdown",
   "id": "f06bea55-7889-4576-a83b-d3b207729e3d",
   "metadata": {
    "tags": []
   },
   "source": [
    "# Stable Diffusion WebUI 带lora训练"
   ]
  },
  {
   "cell_type": "markdown",
   "id": "9fab4ab6-be4b-4206-ba12-8dad73bac833",
   "metadata": {
    "tags": []
   },
   "source": [
    "## 阿里云 DSW 一键脚本 By bilibili@十字鱼\n",
    "### 基于bilibili@秋葉aaaki大佬的云端包修改并整合\n",
    "\n",
    "#### 简介\n",
    "\n",
    "- 十字鱼 https://space.bilibili.com/893892\n",
    "- 更新日期 05.05"
   ]
  },
  {
   "cell_type": "markdown",
   "id": "39df08ff-45e4-4a86-add4-a5af9cc7f7d6",
   "metadata": {
    "tags": []
   },
   "source": [
    "## 1 安装 第一次运行时执行"
   ]
  },
  {
   "cell_type": "markdown",
   "id": "a1ceb62d-9c19-4bce-a060-7fdaecf95ca0",
   "metadata": {},
   "source": [
    "### 1.1 SD安装"
   ]
  },
  {
   "cell_type": "code",
   "execution_count": null,
   "id": "567fe4a3-a897-48b6-bde2-0afb3d064c80",
   "metadata": {},
   "outputs": [],
   "source": [
    "!apt update\n",
    "!apt install -y aria2\n",
    "%cd /mnt/workspace\n",
    "!git clone https://gitcode.net/overbill1683/stable-diffusion-webui\n",
    "%cd stable-diffusion-webui\n",
    "!mkdir repositories\n",
    "%cd repositories\n",
    "!git clone \"https://gitcode.net/overbill1683/stablediffusion\" \"stable-diffusion-stability-ai\"\n",
    "!git clone \"https://gitcode.net/overbill1683/taming-transformers\" \"taming-transformers\"\n",
    "!git clone \"https://gitcode.net/overbill1683/k-diffusion\" \"k-diffusion\"\n",
    "!git clone \"https://gitcode.net/overbill1683/CodeFormer\" \"CodeFormer\"\n",
    "!git clone \"https://gitcode.net/overbill1683/BLIP\" \"BLIP\"\n",
    "%cd /mnt/workspace/stable-diffusion-webui\n",
    "!wget -O \"config.json\" \"https://gitcode.net/Akegarasu/sd-webui-configs/-/raw/master/config.json\"\n",
    "# 安装常用插件\n",
    "extension_urls = \"\"\"\n",
    "https://gitcode.net/ranting8323/a1111-sd-webui-tagcomplete\n",
    "https://gitcode.net/overbill1683/stable-diffusion-webui-localization-zh_Hans\n",
    "https://gitcode.net/ranting8323/sd-webui-additional-networks\n",
    "https://gitcode.net/ranting8323/sd-webui-infinite-image-browsing\n",
    "https://gitcode.net/ranting8323/stable-diffusion-webui-wd14-tagger\n",
    "\"\"\"\n",
    "\n",
    "extensions = extension_urls.strip().split(\"\\n\")\n",
    "\n",
    "%cd /mnt/workspace/stable-diffusion-webui\n",
    "for e in extensions:\n",
    "    !git -C \"extensions\" clone {e}"
   ]
  },
  {
   "cell_type": "markdown",
   "id": "e84e17ce-ed04-4e65-926b-1049b03dbd29",
   "metadata": {},
   "source": [
    "### 1.2 lora训练安装\n",
    "- 不训练可跳过\n",
    "- ./lora-scripts/sd-scripts文件夹里有文件才成功"
   ]
  },
  {
   "cell_type": "code",
   "execution_count": null,
   "id": "29c0c31d-ea47-4056-9ace-ff044cc42cbd",
   "metadata": {},
   "outputs": [],
   "source": [
    "import os\n",
    "!python -m pip install --upgrade pip\n",
    "%cd /mnt/workspace\n",
    "!git clone --recurse-submodules https://ghproxy.com/https://github.com/Akegarasu/lora-scripts\n",
    "if os.path.exists('lora-scripts'):\n",
    "    %cd lora-scripts\n",
    "    !mkdir train\n",
    "    %cd train\n",
    "    !mkdir 10_glut\n",
    "    %cd ../\n",
    "    !git reset --hard\n",
    "    !git pull\n",
    "    !git submodule init\n",
    "    !git submodule update\n",
    "    !wget -O \"train.sh\" \"https://ghproxy.com/https://github.com/gluttony-10/lora-scripts/blob/main/train.sh\"\n",
    "    !pip install torch==2.0.0+cu118 torchvision==0.15.1+cu118 -f https://mirror.sjtu.edu.cn/pytorch-wheels/torch_stable.html -i https://mirrors.bfsu.edu.cn/pypi/web/simple\n",
    "    !pip install -U -I --no-deps xformers==0.0.17 -i https://mirrors.bfsu.edu.cn/pypi/web/simple\n",
    "    if os.path.exists('sd-scripts'):\n",
    "        %cd sd-scripts\n",
    "        !pip install --upgrade -r requirements.txt -i https://mirrors.bfsu.edu.cn/pypi/web/simple\n",
    "        !pip install --upgrade lion-pytorch dadaptation -i https://mirrors.bfsu.edu.cn/pypi/web/simple\n",
    "        !pip install --upgrade lycoris-lora -i https://mirrors.bfsu.edu.cn/pypi/web/simple\n",
    "        !pip install --upgrade fastapi uvicorn -i https://mirrors.bfsu.edu.cn/pypi/web/simple\n",
    "        !sudo apt-get install -y nvidia-cuda-toolkit"
   ]
  },
  {
   "cell_type": "markdown",
   "id": "ced6371a-1cff-4dbf-9400-459ebb588df2",
   "metadata": {},
   "source": [
    "## 2 下载模型和VAE"
   ]
  },
  {
   "cell_type": "code",
   "execution_count": null,
   "id": "8c290ca4-0880-41e1-b1c5-58fd9a755bb7",
   "metadata": {},
   "outputs": [],
   "source": [
    "def aria2(url, filename, d):\n",
    "    !aria2c --console-log-level=error -c -x 16 -s 16 {url} -o {filename} -d {d}\n",
    "\n",
    "model_url = \"https://huggingface.co/swl-models/chilloutmix/resolve/main/Chilloutmix.safetensors\"\n",
    "aria2(model_url, model_url.split(\"/\")[-1], \"/mnt/workspace/stable-diffusion-webui/models/Stable-diffusion\")\n",
    "\n",
    "VAE_URL = \"https://huggingface.co/Yukihime256/840000/resolve/main/vae-ft-mse-840000-ema-pruned.ckpt\"\n",
    "aria2(VAE_URL, VAE_URL.split(\"/\")[-1], \"/mnt/workspace/stable-diffusion-webui/models/VAE\")"
   ]
  },
  {
   "cell_type": "markdown",
   "id": "383abdf0",
   "metadata": {},
   "source": [
    "## 3 下载其他文件\n",
    "- 不下载可跳过\n",
    "- 修改对应文本，运行即可下载文件"
   ]
  },
  {
   "cell_type": "code",
   "execution_count": null,
   "id": "e1dd7015",
   "metadata": {},
   "outputs": [],
   "source": [
    "DOWNLOAD_URL = \"https://huggingface.co/andite/anything-v4.0/resolve/main/anything-v4.5-pruned-fp16.ckpt\"\n",
    "SAVE_DIR = \"/mnt/workspace/stable-diffusion-webui/models/Stable-diffusion\"\n",
    "aria2(DOWNLOAD_URL, DOWNLOAD_URL.split(\"/\")[-1], SAVE_DIR)"
   ]
  },
  {
   "cell_type": "markdown",
   "id": "4b67fda1-6a9a-44c4-879f-70fbf114d175",
   "metadata": {},
   "source": [
    "## 4 训练lora\n",
    "- 不训练可跳过\n",
    "- 训练文件放进./lora-scripts/train/10_glut中\n",
    "- 训练参数请修改 ./lora-scripts/train.sh"
   ]
  },
  {
   "cell_type": "code",
   "execution_count": null,
   "id": "498bbaab-fd8a-47bc-a218-69b103753f4c",
   "metadata": {},
   "outputs": [],
   "source": [
    "%cd /mnt/workspace/lora-scripts\n",
    "!bash train.sh"
   ]
  },
  {
   "cell_type": "markdown",
   "id": "e4bff16e-1f2d-4324-b1b8-78758b107eed",
   "metadata": {},
   "source": [
    "## 5 启动WebUI"
   ]
  },
  {
   "cell_type": "code",
   "execution_count": null,
   "id": "edb12c51-eacb-4086-857e-e2eac64ac94f",
   "metadata": {},
   "outputs": [],
   "source": [
    "import os\n",
    "package_envs  = [\n",
    "      {\n",
    "        \"env\": \"GFPGAN_PACKAGE\",\n",
    "        \"url\": \"git+https://gitcode.net/overbill1683/GFPGAN.git@8d2447a2d918f8eba5a4a01463fd48e45126a379\"\n",
    "      },\n",
    "      {\n",
    "        \"env\": \"CLIP_PACKAGE\",\n",
    "        \"url\": \"git+https://gitcode.net/overbill1683/CLIP.git@d50d76daa670286dd6cacf3bcd80b5e4823fc8e1\"\n",
    "      },\n",
    "      {\n",
    "        \"env\": \"OPENCLIP_PACKAGE\",\n",
    "        \"url\": \"git+https://gitcode.net/overbill1683/open_clip.git@bb6e834e9c70d9c27d0dc3ecedeebeaeb1ffad6b\"\n",
    "      }\n",
    "]\n",
    "os.environ[\"PIP_INDEX_URL\"] = \"https://mirrors.bfsu.edu.cn/pypi/web/simple\"\n",
    "for i in package_envs:\n",
    "    os.environ[i[\"env\"]] = i[\"url\"]\n",
    "\n",
    "%cd /mnt/workspace/stable-diffusion-webui\n",
    "!python launch.py --no-download-sd-model --xformers --share --listen --enable-insecure-extension-access"
   ]
  },
  {
   "cell_type": "markdown",
   "id": "6629671f-b3a8-495e-8d19-39a00234da36",
   "metadata": {},
   "source": [
    "## 6 压缩outputs文件夹\n",
    "- 运行前先停止步骤5"
   ]
  },
  {
   "cell_type": "code",
   "execution_count": null,
   "id": "b778a001-6f15-459f-ab52-f0ae75c8c8af",
   "metadata": {},
   "outputs": [],
   "source": [
    "!tar -zcvf outputs.tar.gz outputs"
   ]
  },
  {
   "cell_type": "code",
   "execution_count": null,
   "id": "23952506-1b8d-47bd-847b-70000bf509d3",
   "metadata": {},
   "outputs": [],
   "source": []
  }
 ],
 "metadata": {
  "kernelspec": {
   "display_name": "Python 3 (ipykernel)",
   "language": "python",
   "name": "python3"
  },
  "language_info": {
   "codemirror_mode": {
    "name": "ipython",
    "version": 3
   },
   "file_extension": ".py",
   "mimetype": "text/x-python",
   "name": "python",
   "nbconvert_exporter": "python",
   "pygments_lexer": "ipython3",
   "version": "3.10.6"
  }
 },
 "nbformat": 4,
 "nbformat_minor": 5
}
